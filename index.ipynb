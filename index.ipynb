{
  "cells": [
    {
      "cell_type": "raw",
      "metadata": {},
      "source": [
        "---\n",
        "title: \"Muhammet Ozkaraca\"\n",
        "image: profile.png\n",
        "about:\n",
        "  id: hero-heading\n",
        "  template: trestles\n",
        "  image-shape: rectangle\n",
        "  links:\n",
        "    - icon: twitter\n",
        "      text: Twitter\n",
        "      href: https://twitter.com\n",
        "    - icon: linkedin\n",
        "      text: LinkedIn\n",
        "      href: https://linkedin.com\n",
        "    - icon: github\n",
        "      text: Github\n",
        "      href: https://github.com\n",
        "---"
      ],
      "id": "7d39b14b"
    },
    {
      "cell_type": "markdown",
      "metadata": {},
      "source": [
        "::: {#hero-heading}\n",
        "\n",
        "**About Me**\n",
        "\n",
        "\n",
        "```{css, echo = FALSE}\n",
        ".justify {\n",
        "  text-align: justify !important\n",
        "}\n",
        "```\n",
        "\n",
        "\n",
        "I am a PhD candidate in the Department of Political Science at the University of North Carolina-Chapel Hill. I work on international relations and political methodology. My research agenda is twofold: I study (i) the repertoire of violence used by militant actors to understand how group hierarchies and compositions influence their strategic decisions and (ii) how political factors and institutions lead violent groups to commit terrorist attacks.\n",
        "\n",
        "\n",
        "I previously received my master's degree in political science at the Central European University, and I completed my B.A. in international relations at Bilkent University. Before starting my graduate studies at the UNC, I worked as a project assistant at the International Center for Migration Policy Development for 2 years. \n",
        "\n",
        ":::"
      ],
      "id": "833744b8"
    }
  ],
  "metadata": {
    "kernelspec": {
      "name": "python3",
      "language": "python",
      "display_name": "Python 3 (ipykernel)"
    }
  },
  "nbformat": 4,
  "nbformat_minor": 5
}